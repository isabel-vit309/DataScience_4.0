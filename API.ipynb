{
 "cells": [
  {
   "cell_type": "code",
   "execution_count": 7,
   "metadata": {},
   "outputs": [],
   "source": [
    "url = 'https://olinda.bcb.gov.br/olinda/servico/MPV_DadosAbertos/versao/v1/odata/MeiosdePagamentosTrimestralDA(trimestre=@trimestre)?@trimestre=''&$top=100&$format=json'"
   ]
  },
  {
   "cell_type": "code",
   "execution_count": 16,
   "metadata": {},
   "outputs": [
    {
     "name": "stdout",
     "output_type": "stream",
     "text": [
      "Status Code: 200\n",
      "Arquivo criado com sucesso!\n"
     ]
    }
   ],
   "source": [
    "import requests\n",
    "import json\n",
    "\n",
    "def requisicao_api(link):\n",
    "    try:\n",
    "        # Adicione headers se necessário (ex: API Key)\n",
    "        headers = {'Authorization': 'Bearer SEU_TOKEN'}\n",
    "        resposta = requests.get(link, headers=headers, timeout=10)\n",
    "        print(f'Status Code: {resposta.status_code}')\n",
    "        \n",
    "        if resposta.status_code == 200:\n",
    "            try:\n",
    "                dados = resposta.json()\n",
    "                with open('resultado.json', 'w', encoding='utf-8') as arquivo:\n",
    "                    json.dump(dados, arquivo, ensure_ascii=False, indent=4)\n",
    "                print(\"Arquivo criado com sucesso!\")\n",
    "                \n",
    "            except json.JSONDecodeError:\n",
    "                print(\"Erro: Resposta não é JSON válido!\")\n",
    "                \n",
    "        else:\n",
    "            print(f\"Erro: Status Code {resposta.status_code}\")\n",
    "            \n",
    "    except requests.exceptions.RequestException as e:\n",
    "        print(f\"Erro de rede: {e}\")\n",
    "\n",
    "# Exemplo de uso com uma API real\n",
    "requisicao_api('https://jsonplaceholder.typicode.com/todos/1')"
   ]
  },
  {
   "cell_type": "code",
   "execution_count": 17,
   "metadata": {},
   "outputs": [
    {
     "name": "stdout",
     "output_type": "stream",
     "text": [
      "Status Code: 400\n",
      "Erro: Status Code 400\n"
     ]
    }
   ],
   "source": [
    "requisicao_api(url)"
   ]
  },
  {
   "cell_type": "code",
   "execution_count": 19,
   "metadata": {},
   "outputs": [],
   "source": [
    "jsondata = pd.read_json('resultado.json')\n",
    "data = jsondata['value']\n",
    "\n",
    "df = pd.json_normalize(data)"
   ]
  },
  {
   "cell_type": "code",
   "execution_count": 20,
   "metadata": {},
   "outputs": [
    {
     "data": {
      "text/plain": [
       "np.float64(1992122.615)"
      ]
     },
     "execution_count": 20,
     "metadata": {},
     "output_type": "execute_result"
    }
   ],
   "source": [
    "df['valorPix'].median()"
   ]
  },
  {
   "cell_type": "code",
   "execution_count": 21,
   "metadata": {},
   "outputs": [],
   "source": [
    "df.to_csv('nome.csv', sep=';', decimal=',')"
   ]
  }
 ],
 "metadata": {
  "kernelspec": {
   "display_name": ".venv",
   "language": "python",
   "name": "python3"
  },
  "language_info": {
   "codemirror_mode": {
    "name": "ipython",
    "version": 3
   },
   "file_extension": ".py",
   "mimetype": "text/x-python",
   "name": "python",
   "nbconvert_exporter": "python",
   "pygments_lexer": "ipython3",
   "version": "3.12.10"
  }
 },
 "nbformat": 4,
 "nbformat_minor": 2
}
